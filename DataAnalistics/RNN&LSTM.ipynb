{
 "cells": [
  {
   "cell_type": "markdown",
   "metadata": {},
   "source": [
    "#RNN 실습 기초"
   ]
  },
  {
   "cell_type": "code",
   "execution_count": 14,
   "metadata": {},
   "outputs": [],
   "source": [
    "import numpy as np\n",
    "import tensorflow as tf\n",
    "from tensorflow.keras.layers import Input, Dense, SimpleRNN\n",
    "from tensorflow.keras.models import Model"
   ]
  },
  {
   "cell_type": "code",
   "execution_count": 3,
   "metadata": {},
   "outputs": [
    {
     "name": "stdout",
     "output_type": "stream",
     "text": [
      "WARNING:tensorflow:From D:\\Anaconda3\\lib\\site-packages\\tensorflow\\python\\ops\\resource_variable_ops.py:435: colocate_with (from tensorflow.python.framework.ops) is deprecated and will be removed in a future version.\n",
      "Instructions for updating:\n",
      "Colocations handled automatically by placer.\n"
     ]
    }
   ],
   "source": [
    "#입력값 형태 지정, 2차원 데이터를 받아 3차원 데이터를 출력하는 RNN 셀 생성\n",
    "inputs = Input(shape=(1,2))\n",
    "output, state = SimpleRNN(3, return_state=True)(inputs)\n",
    "model = Model(inputs=inputs, outputs=[output, state])"
   ]
  },
  {
   "cell_type": "code",
   "execution_count": 4,
   "metadata": {},
   "outputs": [
    {
     "name": "stdout",
     "output_type": "stream",
     "text": [
      "output:  [[ 0.8971854   0.02482994 -0.6421736 ]]\n",
      "state:  [[ 0.8971854   0.02482994 -0.6421736 ]]\n"
     ]
    }
   ],
   "source": [
    "#생성된 RNN 셀을 출력\n",
    "#테스트 입력값\n",
    "data = np.array([[ [1,2] ]])\n",
    "#출력값, 상태값 프린트\n",
    "output, state = model.predict(data)\n",
    "print(\"output: \", output)\n",
    "print(\"state: \", state)"
   ]
  },
  {
   "cell_type": "code",
   "execution_count": 5,
   "metadata": {},
   "outputs": [
    {
     "data": {
      "text/plain": [
       "<tf.Variable 'simple_rnn/kernel:0' shape=(2, 3) dtype=float32>"
      ]
     },
     "execution_count": 5,
     "metadata": {},
     "output_type": "execute_result"
    }
   ],
   "source": [
    "model.layers[1].weights[0]"
   ]
  },
  {
   "cell_type": "code",
   "execution_count": 6,
   "metadata": {},
   "outputs": [
    {
     "data": {
      "text/plain": [
       "<tf.Variable 'simple_rnn/recurrent_kernel:0' shape=(3, 3) dtype=float32>"
      ]
     },
     "execution_count": 6,
     "metadata": {},
     "output_type": "execute_result"
    }
   ],
   "source": [
    "model.layers[1].weights[1]"
   ]
  },
  {
   "cell_type": "code",
   "execution_count": 7,
   "metadata": {},
   "outputs": [
    {
     "data": {
      "text/plain": [
       "<tf.Variable 'simple_rnn/bias:0' shape=(3,) dtype=float32>"
      ]
     },
     "execution_count": 7,
     "metadata": {},
     "output_type": "execute_result"
    }
   ],
   "source": [
    "model.layers[1].weights[2]"
   ]
  },
  {
   "cell_type": "code",
   "execution_count": 8,
   "metadata": {},
   "outputs": [],
   "source": [
    "#I        [1,0,0,0]\n",
    "#work     [0,1,0,0]\n",
    "#at       [0,0,1,0]\n",
    "#google   [0,0,0,1]\n",
    "#I work at google = [ [1,0,0,0], [0,1,0,0], [0,0,1,0], [0,0,0,1] ]\n",
    "#I google at work = [ [1,0,0,0], [0,0,0,1], [0,0,1,0], [0,1,0,0] ]\n",
    "\n",
    "data = np.array([\n",
    "    [ [1,0,0,0], [0,1,0,0], [0,0,1,0], [0,0,0,1] ],\n",
    "    [ [1,0,0,0], [0,0,0,1], [0,0,1,0], [0,1,0,0] ]\n",
    "])"
   ]
  },
  {
   "cell_type": "code",
   "execution_count": 10,
   "metadata": {},
   "outputs": [],
   "source": [
    "#입력값의 형태 지정\n",
    "inputs = Input(shape=(4,4))\n",
    "\n",
    "output, state = SimpleRNN(3, return_state=True, return_sequences=True)(inputs)\n",
    "model = Model(inputs=inputs, outputs=[output, state])"
   ]
  },
  {
   "cell_type": "code",
   "execution_count": 12,
   "metadata": {},
   "outputs": [
    {
     "name": "stdout",
     "output_type": "stream",
     "text": [
      "I work at google:  [[ 0.1080946  -0.37259936  0.614052  ]\n",
      " [-0.33402637 -0.83382887  0.7122181 ]\n",
      " [-0.88661206 -0.07341684  0.91741484]\n",
      " [-0.33549428  0.70423937  0.0323645 ]]\n",
      "I google at work:  [[ 0.1080946  -0.37259936  0.614052  ]\n",
      " [ 0.5124081   0.3428444   0.27980915]\n",
      " [-0.48709342 -0.31369597  0.34823197]\n",
      " [-0.5156241  -0.52680933  0.6999123 ]]\n"
     ]
    }
   ],
   "source": [
    "#출력값, 상태값 출력\n",
    "output, state = model.predict(data)\n",
    "\n",
    "print(\"I work at google: \", output[0])\n",
    "print(\"I google at work: \", output[1])"
   ]
  },
  {
   "cell_type": "code",
   "execution_count": 13,
   "metadata": {},
   "outputs": [
    {
     "name": "stdout",
     "output_type": "stream",
     "text": [
      "I work at google: state:  [-0.33549428  0.70423937  0.0323645 ]\n",
      "I google at work: state:  [-0.5156241  -0.52680933  0.6999123 ]\n"
     ]
    }
   ],
   "source": [
    "print(\"I work at google: state: \", state[0])\n",
    "print(\"I google at work: state: \", state[1])"
   ]
  },
  {
   "cell_type": "markdown",
   "metadata": {},
   "source": [
    "#LSTM 실습 기초"
   ]
  },
  {
   "cell_type": "code",
   "execution_count": 16,
   "metadata": {},
   "outputs": [
    {
     "name": "stdout",
     "output_type": "stream",
     "text": [
      "lstm_out:  [[-0.02804158]]\n",
      "hidden_state:  [[-0.02804158]]\n",
      "cell_state:  [[-0.08011439]]\n"
     ]
    }
   ],
   "source": [
    "import tensorflow as tf\n",
    "from tensorflow.keras.layers import Input, Dense, LSTM\n",
    "from tensorflow.keras.models import Model\n",
    "import numpy as np\n",
    "\n",
    "#입력값의 형태 지정\n",
    "inputs = Input(shape=(1,2))\n",
    "\n",
    "#RNN 셀의 속성 지정, 1차원 벡터의 출력값 지정, random_state=True: LSTM 셀의 상태값, 메모리셀을 출력하도록 지정\n",
    "lstm_out, hidden_state, cell_state = LSTM(1, return_state=True)(inputs)\n",
    "model = Model(inputs=inputs, outputs=[lstm_out, hidden_state, cell_state])\n",
    "\n",
    "data = np.array([\n",
    "    [ [1,0] ]\n",
    "])\n",
    "\n",
    "#출력값, 상태값, 메모리셀 출력\n",
    "lstm_out, hidden_state, cell_state = model.predict(data)\n",
    "print(\"lstm_out: \", lstm_out)\n",
    "print(\"hidden_state: \", hidden_state)\n",
    "print(\"cell_state: \", cell_state)"
   ]
  },
  {
   "cell_type": "markdown",
   "metadata": {},
   "source": [
    "#LSTM - 지문을 읽고 주제 분류하기"
   ]
  },
  {
   "cell_type": "code",
   "execution_count": 18,
   "metadata": {},
   "outputs": [],
   "source": [
    "import tensorflow as tf\n",
    "from tensorflow.keras.layers import Input, Dense, LSTM, Embedding\n",
    "from tensorflow.keras.models import Model\n",
    "from tensorflow.keras.models import Sequential\n",
    "from tensorflow.keras.preprocessing.text import one_hot\n",
    "from tensorflow.keras.preprocessing.sequence import pad_sequences\n",
    "import numpy as np\n",
    "import pandas as pd"
   ]
  },
  {
   "cell_type": "code",
   "execution_count": 19,
   "metadata": {},
   "outputs": [],
   "source": [
    "paragraph_dict_list = [\n",
    "         {'paragraph': 'dishplace is located in sunnyvale downtown there is parking around the area but it can be difficult to find during peak business hours my sisters and i came to this place for dinner on a weekday they were really busy so i highly recommended making reservations unless you have the patience to wait', 'category': 'food'},\n",
    "         {'paragraph': 'service can be slower during busy hours but our waiter was courteous and help gave some great entree recommendations', 'category': 'food'},\n",
    "         {'paragraph': 'portions are huge both french toast and their various omelettes are really good their french toast is probably 1.5x more than other brunch places great place to visit if you are hungry and dont want to wait 1 hour for a table', 'category': 'food'},\n",
    "         {'paragraph': 'we started with apps going the chicken and waffle slides and chicken nachos the sliders were amazing and the nachos were good too maybe by themselves the nachos would have scored better but after those sliders they were up against some tough competition', 'category': 'food'},\n",
    "         {'paragraph': 'the biscuits and gravy was too salty two people in my group had the gravy and all thought it was too salty my hubby ordered a side of double egg and it was served on two small plates who serves eggs to one person on separate plates we commented on that when it was delivered and even the server laughed and said she doesnt know why the kitchen does that presentation of food is important and they really missed on this one', 'category': 'food'},\n",
    "         {'paragraph': 'the garlic fries were a great starter (and a happy hour special) the pancakes looked and tasted great and were a fairly generous portion', 'category': 'food'},\n",
    "         {'paragraph': 'our meal was excellent i had the pasta ai formaggi which was so rich i didnt dare eat it all although i certainly wanted to excellent flavors with a great texture contrast between the soft pasta and the crisp bread crumbs too much sauce for me but a wonderful dish', 'category': 'food'},\n",
    "         {'paragraph': 'what i enjoy most about palo alto is so many restaurants have dog-friendly seating outside i had bookmarked italico from when they first opened about a 1.5 years ago and was jonesing for some pasta so time to finally knock that bookmark off', 'category': 'food'},\n",
    "         {'paragraph': 'the drinks came out fairly quickly a good two to three minutes after the orders were taken i expected my iced tea to taste a bit more sweet but this was straight up green tea with ice in it not to complain of course but i was pleasantly surprised', 'category': 'food'},\n",
    "         {'paragraph': 'despite the not so good burger the service was so slow the restaurant wasnt even half full and they took very long from the moment we got seated to the time we left it was almost 2 hours we thought that it would be quick since we ordered as soon as we sat down my coworkers did seem to enjoy their beef burgers for those who eat beef however i will not be returning it is too expensive and extremely slow service', 'category': 'food'},\n",
    "    \n",
    "         {'paragraph': 'the four reigning major champions simona halep caroline wozniacki angelique kerber and defending us open champion sloane stephens could make a case for being the quartet most likely to succeed especially as all but stephens has also enjoyed the no1 ranking within the last 14 months as they prepare for their gruelling new york campaigns they currently hold the top four places in the ranks', 'category': 'sports'},\n",
    "         {'paragraph': 'the briton was seeded nn7 here last year before a slump in form and confidence took her down to no46 after five first-round losses but there have been signs of a turnaround including a victory over a sub-par serena williams in san jose plus wins against jelena ostapenko and victoria azarenka in montreal. konta pulled out of new haven this week with illness but will hope for good things where she first scored wins in a major before her big breakthroughs to the semis in australia and wimbledon', 'category': 'sports'},\n",
    "         {'paragraph': 'stephens surged her way back from injury in stunning style to win her first major here last year—and ranked just no83 she has since proved what a big time player she is winning the miami title via four fellow major champions then reaching the final at the french open back on north american hard courts she ran to the final in montreal only just edged out by halep she has also avoided many of the big names in her quarter—except for wild card azarenka as a possible in the third round', 'category': 'sports'},\n",
    "         {'paragraph': 'when it came to england chances in the world cup it would be fair to say that most fans had never been more pessimistic than they were this year after enduring years of truly dismal performances at major tournaments – culminating in the 2014 event where they failed to win any of their three group games and finished in bottom spot those results led to the resignation of manager roy hodgson', 'category': 'sports'},\n",
    "         {'paragraph': 'the team that eliminated russia – croatia – also improved enormously during the tournament before it began their odds were 33/1 but they played with real flair and star players like luka modric ivan rakitic and ivan perisic showed their quality on the world stage having displayed their potential by winning all three of their group stage games croatia went on to face difficult tests like the semi-final against england', 'category': 'sports'},\n",
    "         {'paragraph': 'the perseyside outfit finished in fourth place in the premier league table and without a trophy last term after having reached the champions league final before losing to real madrid', 'category': 'sports'},\n",
    "         {'paragraph': 'liverpool fc will return to premier league action on saturday lunchtime when they travel to leicester city in the top flight as they look to make it four wins in a row in the league', 'category': 'sports'},\n",
    "         {'paragraph': 'alisson signed for liverpool fc from as roma this summer and the brazilian goalkeeper has helped the reds to keep three clean sheets in their first three premier league games', 'category': 'sports'},\n",
    "         {'paragraph': 'but the rankings during that run-in to new york hid some very different undercurrents for murray had struggled with a hip injury since the clay swing and had not played a match since losing his quarter-final at wimbledon and he would pull out of the us open just two days before the tournament began—too late however to promote nederer to the no2 seeding', 'category': 'sports'},\n",
    "         {'paragraph': 'then came the oh-so-familiar djokovic-nadal no-quarter-given battle for dominance in the third set there were exhilarating rallies with both chasing to the net both retrieving what looked like winning shots nadal more than once pulled off a reverse smash and had his chance to seal the tie-break but it was djokovic serving at 10-9 who dragged one decisive error from nadal for a two-sets lead', 'category': 'sports'}\n",
    "]\n",
    "df = pd.DataFrame(paragraph_dict_list)\n",
    "df = df[['paragraph', 'category']]"
   ]
  },
  {
   "cell_type": "code",
   "execution_count": 20,
   "metadata": {},
   "outputs": [
    {
     "data": {
      "text/html": [
       "<div>\n",
       "<style scoped>\n",
       "    .dataframe tbody tr th:only-of-type {\n",
       "        vertical-align: middle;\n",
       "    }\n",
       "\n",
       "    .dataframe tbody tr th {\n",
       "        vertical-align: top;\n",
       "    }\n",
       "\n",
       "    .dataframe thead th {\n",
       "        text-align: right;\n",
       "    }\n",
       "</style>\n",
       "<table border=\"1\" class=\"dataframe\">\n",
       "  <thead>\n",
       "    <tr style=\"text-align: right;\">\n",
       "      <th></th>\n",
       "      <th>paragraph</th>\n",
       "      <th>category</th>\n",
       "    </tr>\n",
       "  </thead>\n",
       "  <tbody>\n",
       "    <tr>\n",
       "      <th>15</th>\n",
       "      <td>the perseyside outfit finished in fourth place...</td>\n",
       "      <td>sports</td>\n",
       "    </tr>\n",
       "    <tr>\n",
       "      <th>16</th>\n",
       "      <td>liverpool fc will return to premier league act...</td>\n",
       "      <td>sports</td>\n",
       "    </tr>\n",
       "    <tr>\n",
       "      <th>17</th>\n",
       "      <td>alisson signed for liverpool fc from as roma t...</td>\n",
       "      <td>sports</td>\n",
       "    </tr>\n",
       "    <tr>\n",
       "      <th>18</th>\n",
       "      <td>but the rankings during that run-in to new yor...</td>\n",
       "      <td>sports</td>\n",
       "    </tr>\n",
       "    <tr>\n",
       "      <th>19</th>\n",
       "      <td>then came the oh-so-familiar djokovic-nadal no...</td>\n",
       "      <td>sports</td>\n",
       "    </tr>\n",
       "  </tbody>\n",
       "</table>\n",
       "</div>"
      ],
      "text/plain": [
       "                                            paragraph category\n",
       "15  the perseyside outfit finished in fourth place...   sports\n",
       "16  liverpool fc will return to premier league act...   sports\n",
       "17  alisson signed for liverpool fc from as roma t...   sports\n",
       "18  but the rankings during that run-in to new yor...   sports\n",
       "19  then came the oh-so-familiar djokovic-nadal no...   sports"
      ]
     },
     "execution_count": 20,
     "metadata": {},
     "output_type": "execute_result"
    }
   ],
   "source": [
    "df.tail()"
   ]
  },
  {
   "cell_type": "code",
   "execution_count": 21,
   "metadata": {},
   "outputs": [
    {
     "data": {
      "text/html": [
       "<div>\n",
       "<style scoped>\n",
       "    .dataframe tbody tr th:only-of-type {\n",
       "        vertical-align: middle;\n",
       "    }\n",
       "\n",
       "    .dataframe tbody tr th {\n",
       "        vertical-align: top;\n",
       "    }\n",
       "\n",
       "    .dataframe thead th {\n",
       "        text-align: right;\n",
       "    }\n",
       "</style>\n",
       "<table border=\"1\" class=\"dataframe\">\n",
       "  <thead>\n",
       "    <tr style=\"text-align: right;\">\n",
       "      <th></th>\n",
       "      <th>paragraph</th>\n",
       "      <th>category</th>\n",
       "    </tr>\n",
       "  </thead>\n",
       "  <tbody>\n",
       "    <tr>\n",
       "      <th>0</th>\n",
       "      <td>dishplace is located in sunnyvale downtown the...</td>\n",
       "      <td>food</td>\n",
       "    </tr>\n",
       "    <tr>\n",
       "      <th>1</th>\n",
       "      <td>service can be slower during busy hours but ou...</td>\n",
       "      <td>food</td>\n",
       "    </tr>\n",
       "    <tr>\n",
       "      <th>2</th>\n",
       "      <td>portions are huge both french toast and their ...</td>\n",
       "      <td>food</td>\n",
       "    </tr>\n",
       "    <tr>\n",
       "      <th>3</th>\n",
       "      <td>we started with apps going the chicken and waf...</td>\n",
       "      <td>food</td>\n",
       "    </tr>\n",
       "    <tr>\n",
       "      <th>4</th>\n",
       "      <td>the biscuits and gravy was too salty two peopl...</td>\n",
       "      <td>food</td>\n",
       "    </tr>\n",
       "  </tbody>\n",
       "</table>\n",
       "</div>"
      ],
      "text/plain": [
       "                                           paragraph category\n",
       "0  dishplace is located in sunnyvale downtown the...     food\n",
       "1  service can be slower during busy hours but ou...     food\n",
       "2  portions are huge both french toast and their ...     food\n",
       "3  we started with apps going the chicken and waf...     food\n",
       "4  the biscuits and gravy was too salty two peopl...     food"
      ]
     },
     "execution_count": 21,
     "metadata": {},
     "output_type": "execute_result"
    }
   ],
   "source": [
    "df.head()"
   ]
  },
  {
   "cell_type": "markdown",
   "metadata": {},
   "source": [
    "#LSTM: 데이터 전처리"
   ]
  },
  {
   "cell_type": "code",
   "execution_count": 25,
   "metadata": {},
   "outputs": [],
   "source": [
    "def get_vocab_size(df):\n",
    "    #데이터에 사용된 중복 없는 전체 단어 개수 리턴\n",
    "    \n",
    "    results = set()\n",
    "    df['paragraph'].str.lower().str.split().apply(results.update)\n",
    "    return len(results)\n",
    "\n",
    "#전체 단어 갯수\n",
    "vocab_size = get_vocab_size(df)\n",
    "\n",
    "#단어를 숫자로 인코딩\n",
    "paragraphs = df['paragraph'].tolist()\n",
    "encoded_paragraphs = [one_hot(paragraph, vocab_size) for paragraph in paragraphs]"
   ]
  },
  {
   "cell_type": "code",
   "execution_count": 27,
   "metadata": {},
   "outputs": [
    {
     "name": "stdout",
     "output_type": "stream",
     "text": [
      "91\n"
     ]
    }
   ],
   "source": [
    "def get_max_length(df):\n",
    "    #데이터에서 가장 긴 문장의 단어 갯수 리턴\n",
    "    max_length = 0\n",
    "    for row in df['paragraph']:\n",
    "        if len(row.split(\" \")) > max_length:\n",
    "            max_length = len(row.split(\" \"))\n",
    "    return max_length\n",
    "\n",
    "max_length = get_max_length(df)\n",
    "print (max_length)"
   ]
  },
  {
   "cell_type": "code",
   "execution_count": 28,
   "metadata": {},
   "outputs": [],
   "source": [
    "padded_paragraphs_encoding = pad_sequences(encoded_paragraphs, maxlen=max_length, padding='post')"
   ]
  },
  {
   "cell_type": "code",
   "execution_count": 29,
   "metadata": {},
   "outputs": [
    {
     "data": {
      "text/plain": [
       "array([[382, 397, 524, ...,   0,   0,   0],\n",
       "       [362, 534, 423, ...,   0,   0,   0],\n",
       "       [501, 186, 238, ...,   0,   0,   0],\n",
       "       ...,\n",
       "       [203, 148, 295, ...,   0,   0,   0],\n",
       "       [317, 129,  42, ...,   0,   0,   0],\n",
       "       [283, 380, 129, ...,   0,   0,   0]])"
      ]
     },
     "execution_count": 29,
     "metadata": {},
     "output_type": "execute_result"
    }
   ],
   "source": [
    "padded_paragraphs_encoding"
   ]
  },
  {
   "cell_type": "code",
   "execution_count": 31,
   "metadata": {},
   "outputs": [],
   "source": [
    "categories = df['category'].tolist()\n",
    "def category_encode(category):\n",
    "    #분류 항목(food, sports) 수치로 변경, 원 핫 인코딩으로 변경\n",
    "    \n",
    "    if category == 'food':\n",
    "        return [1,0]\n",
    "    else:\n",
    "        return [0,1]\n",
    "    \n",
    "encoded_category = [category_encode(category) for category in categories]"
   ]
  },
  {
   "cell_type": "code",
   "execution_count": 32,
   "metadata": {},
   "outputs": [
    {
     "name": "stdout",
     "output_type": "stream",
     "text": [
      "[1, 0]\n",
      "[0, 1]\n"
     ]
    }
   ],
   "source": [
    "#원 핫 인코딩 예시\n",
    "print(encoded_category[0])   #category: food\n",
    "print(encoded_category[19])  #category: sports"
   ]
  },
  {
   "cell_type": "code",
   "execution_count": 35,
   "metadata": {},
   "outputs": [],
   "source": [
    "model = Sequential()\n",
    "\n",
    "#문맥 벡터 생성\n",
    "model.add(Embedding(vocab_size, 5, input_length=max_length))\n",
    "\n",
    "model.add(LSTM(64))\n",
    "\n",
    "#분류 단계\n",
    "model.add(Dense(32, activation='relu'))\n",
    "model.add(Dense(2, activation='softmax'))\n",
    "\n",
    "model.compile(loss='categorical_crossentropy',\n",
    "             optimizer='adam',\n",
    "             metrics = ['accuracy'])"
   ]
  },
  {
   "cell_type": "code",
   "execution_count": 36,
   "metadata": {},
   "outputs": [],
   "source": [
    "train_X = np.array(padded_paragraphs_encoding)\n",
    "train_y = np.array(encoded_category)"
   ]
  },
  {
   "cell_type": "code",
   "execution_count": 38,
   "metadata": {},
   "outputs": [
    {
     "name": "stdout",
     "output_type": "stream",
     "text": [
      "Train...\n",
      "WARNING:tensorflow:From D:\\Anaconda3\\lib\\site-packages\\tensorflow\\python\\ops\\math_ops.py:3066: to_int32 (from tensorflow.python.ops.math_ops) is deprecated and will be removed in a future version.\n",
      "Instructions for updating:\n",
      "Use tf.cast instead.\n",
      "Epoch 1/50\n",
      "20/20 [==============================] - 2s 78ms/sample - loss: 0.6940 - acc: 0.5500\n",
      "Epoch 2/50\n",
      "20/20 [==============================] - 0s 10ms/sample - loss: 0.6933 - acc: 0.6000\n",
      "Epoch 3/50\n",
      "20/20 [==============================] - 0s 9ms/sample - loss: 0.6929 - acc: 0.6000\n",
      "Epoch 4/50\n",
      "20/20 [==============================] - 0s 10ms/sample - loss: 0.6926 - acc: 0.6000\n",
      "Epoch 5/50\n",
      "20/20 [==============================] - 0s 10ms/sample - loss: 0.6935 - acc: 0.5500\n",
      "Epoch 6/50\n",
      "20/20 [==============================] - 0s 9ms/sample - loss: 0.6923 - acc: 0.5500\n",
      "Epoch 7/50\n",
      "20/20 [==============================] - 0s 10ms/sample - loss: 0.6921 - acc: 0.5500\n",
      "Epoch 8/50\n",
      "20/20 [==============================] - 0s 10ms/sample - loss: 0.6920 - acc: 0.5500\n",
      "Epoch 9/50\n",
      "20/20 [==============================] - 0s 10ms/sample - loss: 0.6918 - acc: 0.5500\n",
      "Epoch 10/50\n",
      "20/20 [==============================] - 0s 10ms/sample - loss: 0.6917 - acc: 0.5500\n",
      "Epoch 11/50\n",
      "20/20 [==============================] - 0s 15ms/sample - loss: 0.6917 - acc: 0.5500\n",
      "Epoch 12/50\n",
      "20/20 [==============================] - 0s 10ms/sample - loss: 0.6913 - acc: 0.5500\n",
      "Epoch 13/50\n",
      "20/20 [==============================] - 0s 10ms/sample - loss: 0.6910 - acc: 0.5500\n",
      "Epoch 14/50\n",
      "20/20 [==============================] - 0s 10ms/sample - loss: 0.6908 - acc: 0.6000\n",
      "Epoch 15/50\n",
      "20/20 [==============================] - 0s 11ms/sample - loss: 0.6904 - acc: 0.6000\n",
      "Epoch 16/50\n",
      "20/20 [==============================] - 0s 10ms/sample - loss: 0.6904 - acc: 0.6000\n",
      "Epoch 17/50\n",
      "20/20 [==============================] - 0s 9ms/sample - loss: 0.6896 - acc: 0.6000\n",
      "Epoch 18/50\n",
      "20/20 [==============================] - 0s 10ms/sample - loss: 0.6893 - acc: 0.6000\n",
      "Epoch 19/50\n",
      "20/20 [==============================] - 0s 11ms/sample - loss: 0.6889 - acc: 0.6000\n",
      "Epoch 20/50\n",
      "20/20 [==============================] - 0s 10ms/sample - loss: 0.6894 - acc: 0.6000\n",
      "Epoch 21/50\n",
      "20/20 [==============================] - 0s 10ms/sample - loss: 0.6866 - acc: 0.6000\n",
      "Epoch 22/50\n",
      "20/20 [==============================] - 0s 9ms/sample - loss: 0.6884 - acc: 0.6000\n",
      "Epoch 23/50\n",
      "20/20 [==============================] - 0s 9ms/sample - loss: 0.6843 - acc: 0.6000\n",
      "Epoch 24/50\n",
      "20/20 [==============================] - 0s 9ms/sample - loss: 0.6827 - acc: 0.6000\n",
      "Epoch 25/50\n",
      "20/20 [==============================] - 0s 10ms/sample - loss: 0.6818 - acc: 0.6000\n",
      "Epoch 26/50\n",
      "20/20 [==============================] - 0s 10ms/sample - loss: 0.6723 - acc: 0.6000\n",
      "Epoch 27/50\n",
      "20/20 [==============================] - 0s 10ms/sample - loss: 0.6590 - acc: 0.6000\n",
      "Epoch 28/50\n",
      "20/20 [==============================] - 0s 10ms/sample - loss: 0.6757 - acc: 0.6500\n",
      "Epoch 29/50\n",
      "20/20 [==============================] - 0s 10ms/sample - loss: 0.5928 - acc: 0.7000\n",
      "Epoch 30/50\n",
      "20/20 [==============================] - 0s 10ms/sample - loss: 0.5940 - acc: 0.8500\n",
      "Epoch 31/50\n",
      "20/20 [==============================] - 0s 9ms/sample - loss: 0.5493 - acc: 0.8000\n",
      "Epoch 32/50\n",
      "20/20 [==============================] - 0s 9ms/sample - loss: 0.4451 - acc: 0.9000\n",
      "Epoch 33/50\n",
      "20/20 [==============================] - 0s 9ms/sample - loss: 0.3875 - acc: 0.9000\n",
      "Epoch 34/50\n",
      "20/20 [==============================] - 0s 9ms/sample - loss: 0.3264 - acc: 0.9500\n",
      "Epoch 35/50\n",
      "20/20 [==============================] - 0s 10ms/sample - loss: 0.2947 - acc: 0.9500\n",
      "Epoch 36/50\n",
      "20/20 [==============================] - 0s 9ms/sample - loss: 0.2595 - acc: 0.9500\n",
      "Epoch 37/50\n",
      "20/20 [==============================] - 0s 9ms/sample - loss: 0.2377 - acc: 0.9500\n",
      "Epoch 38/50\n",
      "20/20 [==============================] - 0s 9ms/sample - loss: 0.2053 - acc: 0.9500\n",
      "Epoch 39/50\n",
      "20/20 [==============================] - 0s 10ms/sample - loss: 0.1924 - acc: 0.9500\n",
      "Epoch 40/50\n",
      "20/20 [==============================] - 0s 9ms/sample - loss: 0.1802 - acc: 0.9500\n",
      "Epoch 41/50\n",
      "20/20 [==============================] - 0s 10ms/sample - loss: 0.1737 - acc: 0.9500\n",
      "Epoch 42/50\n",
      "20/20 [==============================] - 0s 10ms/sample - loss: 0.1714 - acc: 0.9500\n",
      "Epoch 43/50\n",
      "20/20 [==============================] - 0s 9ms/sample - loss: 0.1679 - acc: 0.9500\n",
      "Epoch 44/50\n",
      "20/20 [==============================] - 0s 9ms/sample - loss: 0.1715 - acc: 0.9500\n",
      "Epoch 45/50\n",
      "20/20 [==============================] - 0s 9ms/sample - loss: 0.1705 - acc: 0.9500\n",
      "Epoch 46/50\n",
      "20/20 [==============================] - 0s 10ms/sample - loss: 0.1714 - acc: 0.9500\n",
      "Epoch 47/50\n",
      "20/20 [==============================] - 0s 10ms/sample - loss: 0.1716 - acc: 0.9500\n",
      "Epoch 48/50\n",
      "20/20 [==============================] - 0s 12ms/sample - loss: 0.1711 - acc: 0.9500\n",
      "Epoch 49/50\n",
      "20/20 [==============================] - 0s 10ms/sample - loss: 0.1705 - acc: 0.9500\n",
      "Epoch 50/50\n",
      "20/20 [==============================] - 0s 10ms/sample - loss: 0.1697 - acc: 0.9500\n"
     ]
    },
    {
     "data": {
      "text/plain": [
       "<tensorflow.python.keras.callbacks.History at 0x20cb65784e0>"
      ]
     },
     "execution_count": 38,
     "metadata": {},
     "output_type": "execute_result"
    }
   ],
   "source": [
    "print('Train...')\n",
    "model.fit(train_X, train_y, batch_size=10, epochs=50)"
   ]
  },
  {
   "cell_type": "code",
   "execution_count": 40,
   "metadata": {},
   "outputs": [
    {
     "name": "stdout",
     "output_type": "stream",
     "text": [
      " - 0s - loss: 0.1695 - acc: 0.9500\n",
      "Test score;  0.1695391684770584\n",
      "Test accuracy:  0.95\n"
     ]
    }
   ],
   "source": [
    "score, acc = model.evaluate(train_X, train_y, verbose=2)\n",
    "print('Test score; ', score)\n",
    "print('Test accuracy: ', acc)"
   ]
  },
  {
   "cell_type": "code",
   "execution_count": 41,
   "metadata": {},
   "outputs": [
    {
     "name": "stdout",
     "output_type": "stream",
     "text": [
      "_________________________________________________________________\n",
      "Layer (type)                 Output Shape              Param #   \n",
      "=================================================================\n",
      "embedding (Embedding)        (None, 91, 5)             2680      \n",
      "_________________________________________________________________\n",
      "lstm_1 (LSTM)                (None, 64)                17920     \n",
      "_________________________________________________________________\n",
      "dense (Dense)                (None, 32)                2080      \n",
      "_________________________________________________________________\n",
      "dense_1 (Dense)              (None, 2)                 66        \n",
      "=================================================================\n",
      "Total params: 22,746\n",
      "Trainable params: 22,746\n",
      "Non-trainable params: 0\n",
      "_________________________________________________________________\n"
     ]
    }
   ],
   "source": [
    "model.summary()\n",
    "\n",
    "#문맥 벡터 생성\n",
    "#입력값은 단어들의 인덱스이고, 그 길이는 항상 91\n",
    "#임베딩 레이어는 인덱스를 받아 5차원 벡터의 임베딩 출력\n",
    "#LSTM 셀은 64차원의 벡터의 상태값 출력\n",
    "\n",
    "#문맥 벡터를 사용해 지문의 주제 분류\n",
    "#주제 분류는 두 개의 덴즈 레이어 사용\n",
    "#첫번째 Dense 레이어는 32개의 노드\n",
    "#두번쨰 Dense 레이어는 2개의 노드, 이 레이어는 softmax의 입력값"
   ]
  }
 ],
 "metadata": {
  "kernelspec": {
   "display_name": "Python 3",
   "language": "python",
   "name": "python3"
  },
  "language_info": {
   "codemirror_mode": {
    "name": "ipython",
    "version": 3
   },
   "file_extension": ".py",
   "mimetype": "text/x-python",
   "name": "python",
   "nbconvert_exporter": "python",
   "pygments_lexer": "ipython3",
   "version": "3.7.0"
  }
 },
 "nbformat": 4,
 "nbformat_minor": 2
}
